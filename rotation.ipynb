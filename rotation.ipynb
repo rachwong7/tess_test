{
 "cells": [
  {
   "cell_type": "code",
   "execution_count": null,
   "id": "4cdad1e0",
   "metadata": {},
   "outputs": [],
   "source": [
    "import numpy as npimport lightkurve as lk\n",
    "import matplotlib.pyplot as plt\n",
    "\n",
    "from lightkurve import search_lightcurve\n",
    "\n",
    "import exoplanet\n",
    "from scipy.signal import find_peaks"
   ]
  },
  {
   "cell_type": "code",
   "execution_count": null,
   "id": "3f105400",
   "metadata": {},
   "outputs": [],
   "source": [
    "# function to find highest peak\n",
    "def highest_peak(time,flux):\n",
    "    try:\n",
    "        x = time\n",
    "        y = flux\n",
    "        x_new = x[np.isfinite(x) & np.isfinite(y)]\n",
    "        y_new = y[np.isfinite(x) & np.isfinite(y)]\n",
    "    \n",
    "        autocorr = exoplanet.autocorr_estimator(x_new, y_new, yerr=None, min_period=0.1, max_period=None, oversample=2.0, smooth=2.0, max_peaks=10)\n",
    "        lag, acf = autocorr['autocorr']\n",
    "        peaks, prominence = find_peaks(acf, prominence = 0.1)\n",
    "        peaks, prominence\n",
    "    \n",
    "        p = np.argsort(lag[peaks])\n",
    "        new_array = lag[peaks][p]\n",
    "    \n",
    "        if (prominence['prominences'][p][1] > prominence['prominences'][p][0]):\n",
    "            high_peak = lag[peaks][p][1]\n",
    "        else:\n",
    "            high_peak = lag[peaks][p][0]\n",
    "        return high_peak\n",
    "    except:\n",
    "        return -1"
   ]
  },
  {
   "cell_type": "code",
   "execution_count": null,
   "id": "ca94980d",
   "metadata": {},
   "outputs": [],
   "source": [
    "#folding on correct period and make graph\n",
    "def graph(time, flux, period):\n",
    "    plt.plot(time%period, flux,\n",
    "            '.')"
   ]
  },
  {
   "cell_type": "code",
   "execution_count": null,
   "id": "256da0bb",
   "metadata": {},
   "outputs": [],
   "source": []
  }
 ],
 "metadata": {
  "kernelspec": {
   "display_name": "Python 3",
   "language": "python",
   "name": "python3"
  },
  "language_info": {
   "codemirror_mode": {
    "name": "ipython",
    "version": 3
   },
   "file_extension": ".py",
   "mimetype": "text/x-python",
   "name": "python",
   "nbconvert_exporter": "python",
   "pygments_lexer": "ipython3",
   "version": "3.8.8"
  }
 },
 "nbformat": 4,
 "nbformat_minor": 5
}
